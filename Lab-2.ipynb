{
 "cells": [
  {
   "cell_type": "markdown",
   "metadata": {},
   "source": [
    "# Visual Computing & Animation\n",
    "\n",
    "## Lab-2"
   ]
  },
  {
   "cell_type": "markdown",
   "metadata": {},
   "source": [
    "### Moving 2D Object"
   ]
  },
  {
   "cell_type": "code",
   "execution_count": null,
   "metadata": {},
   "outputs": [],
   "source": [
    "import random\n",
    "\n",
    "import pygame\n",
    "from pygame.locals import *\n",
    "\n",
    "from OpenGL.GL import *\n",
    "from OpenGL.GLU import *\n",
    "\n",
    "def rectangle(): \n",
    "    x = random.random()\n",
    "    glColor3f(x,1,1)\n",
    "    glRectf(-2, 1, 0, 2)       \n",
    "            \n",
    "def main():\n",
    "    pygame.init()\n",
    "    display = (800,800)\n",
    "    pygame.display.set_mode(display, DOUBLEBUF|OPENGL)\n",
    "\n",
    "    gluPerspective(45, (display[0]/display[1]), 0.1, 50.0)\n",
    "\n",
    "    glTranslatef(0.0,0.0,-6)\n",
    "\n",
    "    while True:\n",
    "        for event in pygame.event.get():\n",
    "            if event.type == pygame.QUIT:\n",
    "                pygame.quit()\n",
    "                quit()\n",
    "\n",
    "        glRotatef(1, 1, 1, 5)        \n",
    "        glClear(GL_COLOR_BUFFER_BIT|GL_DEPTH_BUFFER_BIT)\n",
    "        rectangle()\n",
    "        pygame.display.flip()\n",
    "        pygame.time.wait(10)\n",
    "\n",
    "\n",
    "main()"
   ]
  }
 ],
 "metadata": {
  "kernelspec": {
   "display_name": "Python 3",
   "language": "python",
   "name": "python3"
  },
  "language_info": {
   "codemirror_mode": {
    "name": "ipython",
    "version": 3
   },
   "file_extension": ".py",
   "mimetype": "text/x-python",
   "name": "python",
   "nbconvert_exporter": "python",
   "pygments_lexer": "ipython3",
   "version": "3.8.5"
  }
 },
 "nbformat": 4,
 "nbformat_minor": 4
}
